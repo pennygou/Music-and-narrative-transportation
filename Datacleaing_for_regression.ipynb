{
 "cells": [
  {
   "cell_type": "code",
   "execution_count": 1,
   "metadata": {},
   "outputs": [],
   "source": [
    "import pandas as pd\n",
    "import pylab as plt\n",
    "import numpy as np"
   ]
  },
  {
   "cell_type": "code",
   "execution_count": 2,
   "metadata": {
    "scrolled": true
   },
   "outputs": [],
   "source": [
    "df = pd.read_csv('/Users/gouzepeng/OneDrive/王成军音乐/数据/music_data2021.csv',low_memory=False)"
   ]
  },
  {
   "cell_type": "code",
   "execution_count": 3,
   "metadata": {},
   "outputs": [
    {
     "data": {
      "text/plain": [
       "478864"
      ]
     },
     "execution_count": 3,
     "metadata": {},
     "output_type": "execute_result"
    }
   ],
   "source": [
    "len(df)"
   ]
  },
  {
   "cell_type": "code",
   "execution_count": 78,
   "metadata": {},
   "outputs": [
    {
     "name": "stdout",
     "output_type": "stream",
     "text": [
      "['Unnamed: 0', 'album_id_x', 'album_name_x', 'album_size_x', 'music_id', 'music_name', 'music_score_x', 'artist_name_x', 'artist_id_x', 'artist_albumSize', 'artist_musicSize', 'album_name_y', 'album_publishTime_x', 'album_size_y', 'album_subType', 'album_tags', 'album_company', 'album_type', 'album_html', 'artist_name_y', 'artist_gender', 'artist_name', 'hotornot', 'total', 'userid', 'commentid', 'likedcount_x', 'firstcomtime_x', 'city', 'province', 'followeds_x', 'createdays_x', 'listensongs_x', 'eventcount_x', 'album_id_y', 'music_score_y', 'artist_id_y', 'album_publishTime_y', 'model_topic1', 'model_topic2', 'model_topic3', 'model_topic4', 'model_topic5', 'topic1_ad', 'topic2_ad', 'topic3_ad', 'topic4_ad', 'topic5_ad', 'score', 'posscore', 'negscore', 'hao', 'le', 'ai', 'nu', 'ju', 'er', 'jing', 'total_log', 'daygap', 'comlastdays', 'isgenderexis', 'isgenderman', 'isageexis', 'ageclean_x', 'verified_x', 'payinguser_x', 'userlevel_x', 'contentlength', 'ispositive_x', 'isnegative_x', 'posdiffneg', 'hour', 'time1', 'time2', 'time3', 'time4', 'song_number', 'album_number', 'likedcount_y', 'firstcomtime_y', 'followeds_y', 'createdays_y', 'listensongs_y', 'eventcount_y', 'album_id', 'music_score', 'verified_y', 'payinguser_y', 'userlevel_y', 'ageclean_y', 'comsenclass', 'aveage', 'ispositive_y', 'isnegative_y', 'artist_followeds', 'mlyric_is_chinese', 'mlyric_score', 'mlyric_posscore', 'mlyric_negscore', 'mlyric_senclass3', 'mlyric_senclass1', 'mlyric_senvalue1', 'mlyric_senclass2', 'mlyric_sen_hao', 'mlyric_sen_le', 'mlyric_sen_ai', 'mlyric_sen_nu', 'mlyric_sen_ju', 'mlyric_sen_er', 'mlyric_sen_jing', 'lyric_length', 'mlyric_topic1', 'mlyric_topic2', 'mlyric_topic3', 'mlyric_topic4', 'mlyric_topic5', 'mlyric_topic_max', 'mlyric_topic1_max', 'mlyric_topic2_max', 'mlyric_topic3_max', 'mlyric_topic4_max', 'mlyric_topic5_max', 'lyric_topic1_ad', 'lyric_topic2_ad', 'lyric_topic3_ad', 'lyric_topic4_ad', 'lyric_topic5_ad', 'mlyric_ispositive', 'mlyric_isnegative', 'mlyric_posdiffneg', 'mlyric_hao', 'mlyric_le', 'mlyric_ai', 'mlyric_nu', 'mlyric_ju', 'mlyric_er', 'mlyric_jing', 'comment_log', 'contentlength_log', 'musicscore_log']\n"
     ]
    }
   ],
   "source": [
    "print(df.columns.to_list(),sep=',')"
   ]
  },
  {
   "cell_type": "code",
   "execution_count": 65,
   "metadata": {},
   "outputs": [
    {
     "data": {
      "image/png": "[encoded data removed]",
      "text/plain": [
       "<Figure size 432x288 with 1 Axes>"
      ]
     },
     "metadata": {
      "needs_background": "light"
     },
     "output_type": "display_data"
    }
   ],
   "source": [
    "plt.hist(df['total'])\n",
    "plt.yscale('log')\n",
    "plt.xscale('log')"
   ]
  },
  {
   "cell_type": "code",
   "execution_count": 66,
   "metadata": {},
   "outputs": [
    {
     "data": {
      "text/plain": [
       "(array([3.1300e+02, 5.2200e+03, 4.1016e+04, 6.6443e+04, 4.6012e+04,\n",
       "        2.1242e+04, 5.7410e+03, 1.4030e+03, 2.4100e+02, 1.3000e+01]),\n",
       " array([ 0.        ,  1.47472186,  2.94944373,  4.42416559,  5.89888745,\n",
       "         7.37360931,  8.84833118, 10.32305304, 11.7977749 , 13.27249677,\n",
       "        14.74721863]),\n",
       " <BarContainer object of 10 artists>)"
      ]
     },
     "execution_count": 66,
     "metadata": {},
     "output_type": "execute_result"
    },
    {
     "data": {
      "image/png": "[encoded data removed]",
      "text/plain": [
       "<Figure size 432x288 with 1 Axes>"
      ]
     },
     "metadata": {
      "needs_background": "light"
     },
     "output_type": "display_data"
    }
   ],
   "source": [
    "plt.hist(np.log(df['total']))"
   ]
  },
  {
   "cell_type": "code",
   "execution_count": 4,
   "metadata": {},
   "outputs": [],
   "source": [
    "df['comment_log']=np.log(df['total'])"
   ]
  },
  {
   "cell_type": "code",
   "execution_count": 5,
   "metadata": {},
   "outputs": [
    {
     "data": {
      "text/plain": [
       "count    187644.000000\n",
       "mean          5.647977\n",
       "std           1.675548\n",
       "min           0.000000\n",
       "25%           4.430817\n",
       "50%           5.451038\n",
       "75%           6.793466\n",
       "max          14.747219\n",
       "Name: comment_log, dtype: float64"
      ]
     },
     "execution_count": 5,
     "metadata": {},
     "output_type": "execute_result"
    }
   ],
   "source": [
    "df['comment_log'].describe()"
   ]
  },
  {
   "cell_type": "code",
   "execution_count": 44,
   "metadata": {},
   "outputs": [
    {
     "data": {
      "text/plain": [
       "count    3.611270e+05\n",
       "mean     1.445725e+03\n",
       "std      1.249847e+04\n",
       "min      0.000000e+00\n",
       "25%      0.000000e+00\n",
       "50%      7.200000e+01\n",
       "75%      4.560000e+02\n",
       "max      2.538842e+06\n",
       "Name: total, dtype: float64"
      ]
     },
     "execution_count": 44,
     "metadata": {},
     "output_type": "execute_result"
    }
   ],
   "source": [
    "df['total'].describe()"
   ]
  },
  {
   "cell_type": "code",
   "execution_count": 68,
   "metadata": {},
   "outputs": [
    {
     "data": {
      "text/plain": [
       "(array([25986., 55210., 48635., 30675., 14466.,  6177.,  2682.,  1712.,\n",
       "         1749.,   352.]),\n",
       " array([  0.,  14.,  28.,  42.,  56.,  70.,  84.,  98., 112., 126., 140.]),\n",
       " <BarContainer object of 10 artists>)"
      ]
     },
     "execution_count": 68,
     "metadata": {},
     "output_type": "execute_result"
    },
    {
     "data": {
      "image/png": "[encoded data removed]",
      "text/plain": [
       "<Figure size 432x288 with 1 Axes>"
      ]
     },
     "metadata": {
      "needs_background": "light"
     },
     "output_type": "display_data"
    }
   ],
   "source": [
    "plt.hist(df['contentlength'])"
   ]
  },
  {
   "cell_type": "code",
   "execution_count": 19,
   "metadata": {},
   "outputs": [
    {
     "data": {
      "text/plain": [
       "count    224776.000000\n",
       "mean         35.164149\n",
       "std          21.643785\n",
       "min           0.000000\n",
       "25%          19.375000\n",
       "50%          31.250000\n",
       "75%          46.000000\n",
       "max         140.000000\n",
       "Name: contentlength, dtype: float64"
      ]
     },
     "execution_count": 19,
     "metadata": {},
     "output_type": "execute_result"
    }
   ],
   "source": [
    "df['contentlength'].describe()"
   ]
  },
  {
   "cell_type": "code",
   "execution_count": 69,
   "metadata": {},
   "outputs": [
    {
     "data": {
      "text/plain": [
       "(array([  820.,   246.,   811.,  3471., 10164., 29186., 47985., 60282.,\n",
       "        28417.,  6262.]),\n",
       " array([0.        , 0.49487599, 0.98975198, 1.48462797, 1.97950396,\n",
       "        2.47437995, 2.96925593, 3.46413192, 3.95900791, 4.4538839 ,\n",
       "        4.94875989]),\n",
       " <BarContainer object of 10 artists>)"
      ]
     },
     "execution_count": 69,
     "metadata": {},
     "output_type": "execute_result"
    },
    {
     "data": {
      "image/png": "[encoded data removed]",
      "text/plain": [
       "<Figure size 432x288 with 1 Axes>"
      ]
     },
     "metadata": {
      "needs_background": "light"
     },
     "output_type": "display_data"
    }
   ],
   "source": [
    "plt.hist(np.log(df['contentlength']+1))"
   ]
  },
  {
   "cell_type": "code",
   "execution_count": 70,
   "metadata": {},
   "outputs": [],
   "source": [
    "df['contentlength_log']=np.log(df['contentlength']+1)"
   ]
  },
  {
   "cell_type": "code",
   "execution_count": 71,
   "metadata": {},
   "outputs": [
    {
     "data": {
      "text/plain": [
       "(array([245065.,  70884.,  54722.,  11186.,  11603.,  12501.,  13459.,\n",
       "         15456.,  17946.,  26042.]),\n",
       " array([  5. ,  14.5,  24. ,  33.5,  43. ,  52.5,  62. ,  71.5,  81. ,\n",
       "         90.5, 100. ]),\n",
       " <BarContainer object of 10 artists>)"
      ]
     },
     "execution_count": 71,
     "metadata": {},
     "output_type": "execute_result"
    },
    {
     "data": {
      "image/png": "[encoded data removed]",
      "text/plain": [
       "<Figure size 432x288 with 1 Axes>"
      ]
     },
     "metadata": {
      "needs_background": "light"
     },
     "output_type": "display_data"
    }
   ],
   "source": [
    "plt.hist(df['music_score_x'])"
   ]
  },
  {
   "cell_type": "code",
   "execution_count": 26,
   "metadata": {},
   "outputs": [
    {
     "data": {
      "text/plain": [
       "count    544215.00000\n",
       "mean         28.81624\n",
       "std          30.04410\n",
       "min           5.00000\n",
       "25%          10.00000\n",
       "50%          15.00000\n",
       "75%          35.00000\n",
       "max         100.00000\n",
       "Name: music_score_x, dtype: float64"
      ]
     },
     "execution_count": 26,
     "metadata": {},
     "output_type": "execute_result"
    }
   ],
   "source": [
    "df['music_score_x'].describe()"
   ]
  },
  {
   "cell_type": "code",
   "execution_count": 72,
   "metadata": {},
   "outputs": [
    {
     "data": {
      "text/plain": [
       "(array([ 93210.,      0., 151855.,  30417.,  40467.,  54722.,  11186.,\n",
       "         11603.,  25960.,  59444.]),\n",
       " array([1.60943791, 1.90901114, 2.20858437, 2.50815759, 2.80773082,\n",
       "        3.10730405, 3.40687728, 3.7064505 , 4.00602373, 4.30559696,\n",
       "        4.60517019]),\n",
       " <BarContainer object of 10 artists>)"
      ]
     },
     "execution_count": 72,
     "metadata": {},
     "output_type": "execute_result"
    },
    {
     "data": {
      "image/png": "[encoded data removed]",
      "text/plain": [
       "<Figure size 432x288 with 1 Axes>"
      ]
     },
     "metadata": {
      "needs_background": "light"
     },
     "output_type": "display_data"
    }
   ],
   "source": [
    "plt.hist(np.log(df['music_score_x']))"
   ]
  },
  {
   "cell_type": "code",
   "execution_count": 6,
   "metadata": {},
   "outputs": [],
   "source": [
    "df['musicscore_log']=np.log(df['music_score_x'])"
   ]
  },
  {
   "cell_type": "code",
   "execution_count": 7,
   "metadata": {},
   "outputs": [
    {
     "data": {
      "text/plain": [
       "count    478864.000000\n",
       "mean          2.798131\n",
       "std           0.936057\n",
       "min           1.609438\n",
       "25%           2.302585\n",
       "50%           2.302585\n",
       "75%           3.218876\n",
       "max           4.605170\n",
       "Name: musicscore_log, dtype: float64"
      ]
     },
     "execution_count": 7,
     "metadata": {},
     "output_type": "execute_result"
    }
   ],
   "source": [
    "df['musicscore_log'].describe()"
   ]
  },
  {
   "cell_type": "code",
   "execution_count": 74,
   "metadata": {},
   "outputs": [
    {
     "data": {
      "text/plain": [
       "<matplotlib.collections.PathCollection at 0x7fa98f501100>"
      ]
     },
     "execution_count": 74,
     "metadata": {},
     "output_type": "execute_result"
    },
    {
     "data": {
      "image/png": "[encoded data removed]",
      "text/plain": [
       "<Figure size 432x288 with 1 Axes>"
      ]
     },
     "metadata": {
      "needs_background": "light"
     },
     "output_type": "display_data"
    }
   ],
   "source": [
    "plt.scatter(df['contentlength_log'],df['musicscore_log'])"
   ]
  },
  {
   "cell_type": "code",
   "execution_count": 75,
   "metadata": {},
   "outputs": [
    {
     "data": {
      "text/plain": [
       "<matplotlib.collections.PathCollection at 0x7faaa9ba1370>"
      ]
     },
     "execution_count": 75,
     "metadata": {},
     "output_type": "execute_result"
    },
    {
     "data": {
      "image/png": "[encoded data removed]",
      "text/plain": [
       "<Figure size 432x288 with 1 Axes>"
      ]
     },
     "metadata": {
      "needs_background": "light"
     },
     "output_type": "display_data"
    }
   ],
   "source": [
    "plt.scatter(df['contentlength_log'],df['comment_log'])"
   ]
  },
  {
   "cell_type": "code",
   "execution_count": 81,
   "metadata": {},
   "outputs": [
    {
     "data": {
      "text/plain": [
       "(array([4.0432e+04, 5.7850e+04, 4.5857e+04, 2.1166e+04, 1.1887e+04,\n",
       "        6.3430e+03, 2.7030e+03, 1.0680e+03, 2.9100e+02, 4.7000e+01]),\n",
       " array([ 2.30258509,  3.36591377,  4.42924245,  5.49257112,  6.5558998 ,\n",
       "         7.61922848,  8.68255715,  9.74588583, 10.80921451, 11.87254318,\n",
       "        12.93587186]),\n",
       " <BarContainer object of 10 artists>)"
      ]
     },
     "execution_count": 81,
     "metadata": {},
     "output_type": "execute_result"
    },
    {
     "data": {
      "image/png": "[encoded data removed]",
      "text/plain": [
       "<Figure size 432x288 with 1 Axes>"
      ]
     },
     "metadata": {
      "needs_background": "light"
     },
     "output_type": "display_data"
    }
   ],
   "source": [
    "plt.hist(np.log(df['likedcount_x']))\n"
   ]
  },
  {
   "cell_type": "code",
   "execution_count": 82,
   "metadata": {},
   "outputs": [
    {
     "data": {
      "text/plain": [
       "count    187644.000000\n",
       "mean        759.359093\n",
       "std        5184.705584\n",
       "min          10.000000\n",
       "25%          33.000000\n",
       "50%          77.279221\n",
       "75%         216.737500\n",
       "max      414932.800000\n",
       "Name: likedcount_x, dtype: float64"
      ]
     },
     "execution_count": 82,
     "metadata": {},
     "output_type": "execute_result"
    }
   ],
   "source": [
    "df['likedcount_x'].describe()"
   ]
  },
  {
   "cell_type": "code",
   "execution_count": 8,
   "metadata": {},
   "outputs": [],
   "source": [
    "df['like_log']=np.log(df['likedcount_x'])"
   ]
  },
  {
   "cell_type": "code",
   "execution_count": 9,
   "metadata": {},
   "outputs": [
    {
     "data": {
      "text/plain": [
       "count    187644.000000\n",
       "mean          4.620773\n",
       "std           1.571951\n",
       "min           2.302585\n",
       "25%           3.496508\n",
       "50%           4.347425\n",
       "75%           5.378687\n",
       "max          12.935872\n",
       "Name: like_log, dtype: float64"
      ]
     },
     "execution_count": 9,
     "metadata": {},
     "output_type": "execute_result"
    }
   ],
   "source": [
    "df['like_log'].describe()"
   ]
  },
  {
   "cell_type": "code",
   "execution_count": 84,
   "metadata": {},
   "outputs": [
    {
     "data": {
      "text/plain": [
       "count     426092\n",
       "unique         3\n",
       "top            1\n",
       "freq      150352\n",
       "Name: artist_gender, dtype: object"
      ]
     },
     "execution_count": 84,
     "metadata": {},
     "output_type": "execute_result"
    }
   ],
   "source": [
    "df['artist_gender'].describe()"
   ]
  },
  {
   "cell_type": "code",
   "execution_count": 88,
   "metadata": {},
   "outputs": [],
   "source": [
    "df_gender = pd.get_dummies(df['artist_gender'])"
   ]
  },
  {
   "cell_type": "code",
   "execution_count": 90,
   "metadata": {},
   "outputs": [
    {
     "data": {
      "text/plain": [
       "<bound method Series.unique of 0             1\n",
       "1             1\n",
       "2             1\n",
       "3             1\n",
       "4             1\n",
       "          ...  \n",
       "478859    group\n",
       "478860    group\n",
       "478861    group\n",
       "478862    group\n",
       "478863      NaN\n",
       "Name: artist_gender, Length: 478864, dtype: object>"
      ]
     },
     "execution_count": 90,
     "metadata": {},
     "output_type": "execute_result"
    }
   ],
   "source": [
    "df['artist_gender'].unique"
   ]
  },
  {
   "cell_type": "code",
   "execution_count": 92,
   "metadata": {},
   "outputs": [],
   "source": [
    "#baseline: group\n",
    "df['male'] = df_gender['1']\n",
    "df['female']=df_gender['0']"
   ]
  },
  {
   "cell_type": "code",
   "execution_count": 93,
   "metadata": {},
   "outputs": [
    {
     "data": {
      "text/plain": [
       "(array([389673.,  41737.,   8393.,   9053.,  10804.,   6727.,      0.,\n",
       "             0.,      0.,  12477.]),\n",
       " array([1.00000e+00, 1.24860e+03, 2.49620e+03, 3.74380e+03, 4.99140e+03,\n",
       "        6.23900e+03, 7.48660e+03, 8.73420e+03, 9.98180e+03, 1.12294e+04,\n",
       "        1.24770e+04]),\n",
       " <BarContainer object of 10 artists>)"
      ]
     },
     "execution_count": 93,
     "metadata": {},
     "output_type": "execute_result"
    },
    {
     "data": {
      "image/png": "[encoded data removed]",
      "text/plain": [
       "<Figure size 432x288 with 1 Axes>"
      ]
     },
     "metadata": {
      "needs_background": "light"
     },
     "output_type": "display_data"
    }
   ],
   "source": [
    "plt.hist(df['song_number'])"
   ]
  },
  {
   "cell_type": "code",
   "execution_count": 95,
   "metadata": {},
   "outputs": [
    {
     "data": {
      "text/plain": [
       "(array([   756.,   3218.,  17975.,  62768.,  98127., 100484.,  75533.,\n",
       "         59674.,  30321.,  30008.]),\n",
       " array([0.        , 0.94316422, 1.88632845, 2.82949267, 3.77265689,\n",
       "        4.71582111, 5.65898534, 6.60214956, 7.54531378, 8.48847801,\n",
       "        9.43164223]),\n",
       " <BarContainer object of 10 artists>)"
      ]
     },
     "execution_count": 95,
     "metadata": {},
     "output_type": "execute_result"
    },
    {
     "data": {
      "image/png": "[encoded data removed]",
      "text/plain": [
       "<Figure size 432x288 with 1 Axes>"
      ]
     },
     "metadata": {
      "needs_background": "light"
     },
     "output_type": "display_data"
    }
   ],
   "source": [
    "plt.hist(np.log(df['song_number']))"
   ]
  },
  {
   "cell_type": "code",
   "execution_count": 96,
   "metadata": {},
   "outputs": [],
   "source": [
    "df['songnum_log']=np.log(df['song_number'])"
   ]
  },
  {
   "cell_type": "code",
   "execution_count": 98,
   "metadata": {},
   "outputs": [
    {
     "data": {
      "text/plain": [
       "(array([389729.,  56340.,  14472.,      0.,   5846.,      0.,      0.,\n",
       "             0.,      0.,  12477.]),\n",
       " array([  1. , 100.5, 200. , 299.5, 399. , 498.5, 598. , 697.5, 797. ,\n",
       "        896.5, 996. ]),\n",
       " <BarContainer object of 10 artists>)"
      ]
     },
     "execution_count": 98,
     "metadata": {},
     "output_type": "execute_result"
    },
    {
     "data": {
      "image/png": "[encoded data removed]",
      "text/plain": [
       "<Figure size 432x288 with 1 Axes>"
      ]
     },
     "metadata": {
      "needs_background": "light"
     },
     "output_type": "display_data"
    }
   ],
   "source": [
    "plt.hist(df['album_number'])"
   ]
  },
  {
   "cell_type": "code",
   "execution_count": 100,
   "metadata": {},
   "outputs": [
    {
     "data": {
      "text/plain": [
       "(array([  5246.,  13358.,  30242.,  54768., 108466., 113424.,  85098.,\n",
       "         38783.,  17002.,  12477.]),\n",
       " array([0.        , 0.69037473, 1.38074945, 2.07112418, 2.7614989 ,\n",
       "        3.45187363, 4.14224835, 4.83262308, 5.52299781, 6.21337253,\n",
       "        6.90374726]),\n",
       " <BarContainer object of 10 artists>)"
      ]
     },
     "execution_count": 100,
     "metadata": {},
     "output_type": "execute_result"
    },
    {
     "data": {
      "image/png": "[encoded data removed]",
      "text/plain": [
       "<Figure size 432x288 with 1 Axes>"
      ]
     },
     "metadata": {
      "needs_background": "light"
     },
     "output_type": "display_data"
    }
   ],
   "source": [
    "plt.hist(np.log(df['album_number']))"
   ]
  },
  {
   "cell_type": "code",
   "execution_count": 10,
   "metadata": {},
   "outputs": [],
   "source": [
    "df['albumnum_log']=np.log(df['album_number'])"
   ]
  },
  {
   "cell_type": "code",
   "execution_count": 11,
   "metadata": {},
   "outputs": [
    {
     "data": {
      "text/plain": [
       "count    478864.000000\n",
       "mean          3.606131\n",
       "std           1.262140\n",
       "min           0.000000\n",
       "25%           2.890372\n",
       "50%           3.610918\n",
       "75%           4.369448\n",
       "max           6.903747\n",
       "Name: albumnum_log, dtype: float64"
      ]
     },
     "execution_count": 11,
     "metadata": {},
     "output_type": "execute_result"
    }
   ],
   "source": [
    "df['albumnum_log'].describe()"
   ]
  },
  {
   "cell_type": "code",
   "execution_count": 102,
   "metadata": {},
   "outputs": [],
   "source": [
    "df.to_csv('/Users/gouzepeng/OneDrive/王成军音乐/数据/song_dataset.csv',index=False)"
   ]
  },
  {
   "cell_type": "code",
   "execution_count": 103,
   "metadata": {},
   "outputs": [
    {
     "data": {
      "text/html": [
       "<div>\n",
       "<style scoped>\n",
       "    .dataframe tbody tr th:only-of-type {\n",
       "        vertical-align: middle;\n",
       "    }\n",
       "\n",
       "    .dataframe tbody tr th {\n",
       "        vertical-align: top;\n",
       "    }\n",
       "\n",
       "    .dataframe thead th {\n",
       "        text-align: right;\n",
       "    }\n",
       "</style>\n",
       "<table border=\"1\" class=\"dataframe\">\n",
       "  <thead>\n",
       "    <tr style=\"text-align: right;\">\n",
       "      <th></th>\n",
       "      <th>artist_id_x</th>\n",
       "      <th>comment_log</th>\n",
       "      <th>like_log</th>\n",
       "    </tr>\n",
       "  </thead>\n",
       "  <tbody>\n",
       "    <tr>\n",
       "      <th>count</th>\n",
       "      <td>4.788640e+05</td>\n",
       "      <td>187644.000000</td>\n",
       "      <td>187644.000000</td>\n",
       "    </tr>\n",
       "    <tr>\n",
       "      <th>mean</th>\n",
       "      <td>7.727965e+06</td>\n",
       "      <td>5.647977</td>\n",
       "      <td>4.620773</td>\n",
       "    </tr>\n",
       "    <tr>\n",
       "      <th>std</th>\n",
       "      <td>1.124615e+07</td>\n",
       "      <td>1.675548</td>\n",
       "      <td>1.571951</td>\n",
       "    </tr>\n",
       "    <tr>\n",
       "      <th>min</th>\n",
       "      <td>1.875000e+03</td>\n",
       "      <td>0.000000</td>\n",
       "      <td>2.302585</td>\n",
       "    </tr>\n",
       "    <tr>\n",
       "      <th>25%</th>\n",
       "      <td>9.026000e+03</td>\n",
       "      <td>4.430817</td>\n",
       "      <td>3.496508</td>\n",
       "    </tr>\n",
       "    <tr>\n",
       "      <th>50%</th>\n",
       "      <td>8.277280e+05</td>\n",
       "      <td>5.451038</td>\n",
       "      <td>4.347425</td>\n",
       "    </tr>\n",
       "    <tr>\n",
       "      <th>75%</th>\n",
       "      <td>1.230816e+07</td>\n",
       "      <td>6.793466</td>\n",
       "      <td>5.378687</td>\n",
       "    </tr>\n",
       "    <tr>\n",
       "      <th>max</th>\n",
       "      <td>3.759322e+07</td>\n",
       "      <td>14.747219</td>\n",
       "      <td>12.935872</td>\n",
       "    </tr>\n",
       "  </tbody>\n",
       "</table>\n",
       "</div>"
      ],
      "text/plain": [
       "        artist_id_x    comment_log       like_log\n",
       "count  4.788640e+05  187644.000000  187644.000000\n",
       "mean   7.727965e+06       5.647977       4.620773\n",
       "std    1.124615e+07       1.675548       1.571951\n",
       "min    1.875000e+03       0.000000       2.302585\n",
       "25%    9.026000e+03       4.430817       3.496508\n",
       "50%    8.277280e+05       5.451038       4.347425\n",
       "75%    1.230816e+07       6.793466       5.378687\n",
       "max    3.759322e+07      14.747219      12.935872"
      ]
     },
     "execution_count": 103,
     "metadata": {},
     "output_type": "execute_result"
    }
   ],
   "source": [
    "df[['artist_id_x','comment_log','like_log']].describe()"
   ]
  },
  {
   "cell_type": "code",
   "execution_count": 105,
   "metadata": {},
   "outputs": [
    {
     "data": {
      "text/html": [
       "<div>\n",
       "<style scoped>\n",
       "    .dataframe tbody tr th:only-of-type {\n",
       "        vertical-align: middle;\n",
       "    }\n",
       "\n",
       "    .dataframe tbody tr th {\n",
       "        vertical-align: top;\n",
       "    }\n",
       "\n",
       "    .dataframe thead th {\n",
       "        text-align: right;\n",
       "    }\n",
       "</style>\n",
       "<table border=\"1\" class=\"dataframe\">\n",
       "  <thead>\n",
       "    <tr style=\"text-align: right;\">\n",
       "      <th></th>\n",
       "      <th>artist_id_x</th>\n",
       "      <th>total</th>\n",
       "      <th>likedcount_x</th>\n",
       "    </tr>\n",
       "  </thead>\n",
       "  <tbody>\n",
       "    <tr>\n",
       "      <th>count</th>\n",
       "      <td>4.788640e+05</td>\n",
       "      <td>1.876440e+05</td>\n",
       "      <td>187644.000000</td>\n",
       "    </tr>\n",
       "    <tr>\n",
       "      <th>mean</th>\n",
       "      <td>7.727965e+06</td>\n",
       "      <td>1.855563e+03</td>\n",
       "      <td>759.359093</td>\n",
       "    </tr>\n",
       "    <tr>\n",
       "      <th>std</th>\n",
       "      <td>1.124615e+07</td>\n",
       "      <td>1.581595e+04</td>\n",
       "      <td>5184.705584</td>\n",
       "    </tr>\n",
       "    <tr>\n",
       "      <th>min</th>\n",
       "      <td>1.875000e+03</td>\n",
       "      <td>1.000000e+00</td>\n",
       "      <td>10.000000</td>\n",
       "    </tr>\n",
       "    <tr>\n",
       "      <th>25%</th>\n",
       "      <td>9.026000e+03</td>\n",
       "      <td>8.400000e+01</td>\n",
       "      <td>33.000000</td>\n",
       "    </tr>\n",
       "    <tr>\n",
       "      <th>50%</th>\n",
       "      <td>8.277280e+05</td>\n",
       "      <td>2.330000e+02</td>\n",
       "      <td>77.279221</td>\n",
       "    </tr>\n",
       "    <tr>\n",
       "      <th>75%</th>\n",
       "      <td>1.230816e+07</td>\n",
       "      <td>8.920000e+02</td>\n",
       "      <td>216.737500</td>\n",
       "    </tr>\n",
       "    <tr>\n",
       "      <th>max</th>\n",
       "      <td>3.759322e+07</td>\n",
       "      <td>2.538842e+06</td>\n",
       "      <td>414932.800000</td>\n",
       "    </tr>\n",
       "  </tbody>\n",
       "</table>\n",
       "</div>"
      ],
      "text/plain": [
       "        artist_id_x         total   likedcount_x\n",
       "count  4.788640e+05  1.876440e+05  187644.000000\n",
       "mean   7.727965e+06  1.855563e+03     759.359093\n",
       "std    1.124615e+07  1.581595e+04    5184.705584\n",
       "min    1.875000e+03  1.000000e+00      10.000000\n",
       "25%    9.026000e+03  8.400000e+01      33.000000\n",
       "50%    8.277280e+05  2.330000e+02      77.279221\n",
       "75%    1.230816e+07  8.920000e+02     216.737500\n",
       "max    3.759322e+07  2.538842e+06  414932.800000"
      ]
     },
     "execution_count": 105,
     "metadata": {},
     "output_type": "execute_result"
    }
   ],
   "source": [
    "df[['artist_id_x','total','likedcount_x']].describe()"
   ]
  },
  {
   "cell_type": "code",
   "execution_count": null,
   "metadata": {},
   "outputs": [],
   "source": []
  }
 ],
 "metadata": {
  "kernelspec": {
   "display_name": "Python 3",
   "language": "python",
   "name": "python3"
  },
  "language_info": {
   "codemirror_mode": {
    "name": "ipython",
    "version": 3
   },
   "file_extension": ".py",
   "mimetype": "text/x-python",
   "name": "python",
   "nbconvert_exporter": "python",
   "pygments_lexer": "ipython3",
   "version": "3.8.5"
  }
 },
 "nbformat": 4,
 "nbformat_minor": 4
}
